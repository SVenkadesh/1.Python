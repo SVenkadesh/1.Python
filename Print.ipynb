{
 "cells": [
  {
   "cell_type": "code",
   "execution_count": 1,
   "id": "727d3c6c-479c-4240-bdcb-749acc35c050",
   "metadata": {},
   "outputs": [
    {
     "name": "stdout",
     "output_type": "stream",
     "text": [
      "Welcome to Ai\n"
     ]
    }
   ],
   "source": [
    "print(\"Welcome to Ai\")"
   ]
  },
  {
   "cell_type": "code",
   "execution_count": 245,
   "id": "5620eb23-c22c-4bb4-acce-6855fddd7363",
   "metadata": {},
   "outputs": [
    {
     "ename": "NameError",
     "evalue": "name 'Print' is not defined",
     "output_type": "error",
     "traceback": [
      "\u001b[1;31m---------------------------------------------------------------------------\u001b[0m",
      "\u001b[1;31mNameError\u001b[0m                                 Traceback (most recent call last)",
      "Cell \u001b[1;32mIn[245], line 1\u001b[0m\n\u001b[1;32m----> 1\u001b[0m Print(ai)\n",
      "\u001b[1;31mNameError\u001b[0m: name 'Print' is not defined"
     ]
    }
   ],
   "source": [
    "Print(ai)"
   ]
  },
  {
   "cell_type": "code",
   "execution_count": 5,
   "id": "0b3b99e6-aa71-41e6-a311-5c85c4aa7f27",
   "metadata": {},
   "outputs": [
    {
     "name": "stdout",
     "output_type": "stream",
     "text": [
      "ai\n"
     ]
    }
   ],
   "source": [
    "print(\"ai\")"
   ]
  },
  {
   "cell_type": "code",
   "execution_count": 247,
   "id": "ba966e98-74e3-4002-a284-d059ba64a681",
   "metadata": {},
   "outputs": [
    {
     "ename": "NameError",
     "evalue": "name 'Print' is not defined",
     "output_type": "error",
     "traceback": [
      "\u001b[1;31m---------------------------------------------------------------------------\u001b[0m",
      "\u001b[1;31mNameError\u001b[0m                                 Traceback (most recent call last)",
      "Cell \u001b[1;32mIn[247], line 1\u001b[0m\n\u001b[1;32m----> 1\u001b[0m Print(\u001b[38;5;124m\"\u001b[39m\u001b[38;5;124mai\u001b[39m\u001b[38;5;124m\"\u001b[39m)\n",
      "\u001b[1;31mNameError\u001b[0m: name 'Print' is not defined"
     ]
    }
   ],
   "source": [
    "Print(\"ai\")"
   ]
  },
  {
   "cell_type": "code",
   "execution_count": 9,
   "id": "6c0b9523-9c78-4e41-8e9c-70120203dec9",
   "metadata": {},
   "outputs": [
    {
     "name": "stdout",
     "output_type": "stream",
     "text": [
      "ai\n"
     ]
    }
   ],
   "source": [
    "print(\"ai\")"
   ]
  },
  {
   "cell_type": "code",
   "execution_count": 13,
   "id": "94ab7710-168a-4559-9649-669fd3a2fef7",
   "metadata": {},
   "outputs": [
    {
     "name": "stdout",
     "output_type": "stream",
     "text": [
      "40\n"
     ]
    }
   ],
   "source": [
    "num1=10\n",
    "num2=30\n",
    "numtotal=num1+num2\n",
    "print(numtotal)"
   ]
  },
  {
   "cell_type": "code",
   "execution_count": 15,
   "id": "785b6d4f-acd1-4be2-bc28-0775aeeb4c9a",
   "metadata": {},
   "outputs": [
    {
     "ename": "SyntaxError",
     "evalue": "invalid syntax (3703795478.py, line 1)",
     "output_type": "error",
     "traceback": [
      "\u001b[1;36m  Cell \u001b[1;32mIn[15], line 1\u001b[1;36m\u001b[0m\n\u001b[1;33m    hi hello=Welcome\u001b[0m\n\u001b[1;37m       ^\u001b[0m\n\u001b[1;31mSyntaxError\u001b[0m\u001b[1;31m:\u001b[0m invalid syntax\n"
     ]
    }
   ],
   "source": [
    "hi hello=Welcome"
   ]
  },
  {
   "cell_type": "code",
   "execution_count": 19,
   "id": "8a42361c-317c-4574-afba-46a1524fa0a3",
   "metadata": {},
   "outputs": [],
   "source": [
    "hihello=\"Welcom\""
   ]
  },
  {
   "cell_type": "code",
   "execution_count": 21,
   "id": "30e01033-cd27-4711-8da2-1cc94fe3c8d7",
   "metadata": {},
   "outputs": [],
   "source": [
    "hi=\"welcome\""
   ]
  },
  {
   "cell_type": "code",
   "execution_count": 23,
   "id": "427d12c6-cdc1-4cf7-b539-5eda360ff022",
   "metadata": {},
   "outputs": [
    {
     "name": "stdout",
     "output_type": "stream",
     "text": [
      "welcome\n"
     ]
    }
   ],
   "source": [
    "print(hi)"
   ]
  },
  {
   "cell_type": "code",
   "execution_count": 37,
   "id": "5a33b50d-bb9d-4691-97bf-ed8a9ed1024f",
   "metadata": {},
   "outputs": [
    {
     "name": "stdout",
     "output_type": "stream",
     "text": [
      "Addition of 2 numbers\n",
      "Number 1 is: 10\n",
      "Number 2 is: 20\n",
      "Total num value is: 30\n"
     ]
    }
   ],
   "source": [
    "print(\"Addition of 2 numbers\")\n",
    "num1=10\n",
    "num2=20\n",
    "num=num1+num2\n",
    "print(\"Number 1 is:\",num1)\n",
    "print(\"Number 2 is:\",num2)\n",
    "print(\"Total num value is:\",num)"
   ]
  },
  {
   "cell_type": "raw",
   "id": "cede1858-4e85-44cb-96bd-94e9deb1cc1c",
   "metadata": {},
   "source": [
    "num1=int(input(\"Number 1 is\"))\n",
    "num2=int(input(\"Number 2 is\"))\n",
    "num=num1+num2\n",
    "print(num)"
   ]
  },
  {
   "cell_type": "code",
   "execution_count": 148,
   "id": "d69dee78-d764-440d-a4f5-0f51edbbcd92",
   "metadata": {},
   "outputs": [
    {
     "name": "stdin",
     "output_type": "stream",
     "text": [
      "Enter Age 4\n"
     ]
    }
   ],
   "source": [
    "age=int(input(\"Enter Age\"))\n"
   ]
  },
  {
   "cell_type": "code",
   "execution_count": 111,
   "id": "8115a5ed-f32d-4e96-9c26-ba3a746ddca7",
   "metadata": {},
   "outputs": [
    {
     "name": "stdout",
     "output_type": "stream",
     "text": [
      "children\n"
     ]
    }
   ],
   "source": [
    "if(age<18):\n",
    "    print(\"children\")\n",
    "else: print(\"adult\")\n"
   ]
  },
  {
   "cell_type": "code",
   "execution_count": 150,
   "id": "bd476096-38ed-48f9-8b0c-10d6235243d6",
   "metadata": {},
   "outputs": [
    {
     "name": "stdout",
     "output_type": "stream",
     "text": [
      "children\n"
     ]
    }
   ],
   "source": [
    "if(age<18):\n",
    "    print(\"children\")\n",
    "elif  (age>25):\n",
    "    print(\"Younger\")"
   ]
  },
  {
   "cell_type": "code",
   "execution_count": 215,
   "id": "d6eefaaa-a0ed-4d74-b9e4-06bad9a66287",
   "metadata": {},
   "outputs": [],
   "source": [
    "lists=[1,2,3,4,50];"
   ]
  },
  {
   "cell_type": "code",
   "execution_count": 217,
   "id": "bb85b509-e8f0-4704-bdbb-df352b04ae2e",
   "metadata": {},
   "outputs": [
    {
     "name": "stdout",
     "output_type": "stream",
     "text": [
      "children\n",
      "children\n",
      "children\n",
      "children\n",
      "Younger\n"
     ]
    }
   ],
   "source": [
    "for age in lists:\n",
    "    if(age<18):\n",
    "        print(\"children\")\n",
    "    elif (age>25):\n",
    "        print(\"Younger\")\n"
   ]
  },
  {
   "cell_type": "code",
   "execution_count": 225,
   "id": "66e79a2e-900e-4341-aefd-7fc44bda06d3",
   "metadata": {},
   "outputs": [
    {
     "name": "stdin",
     "output_type": "stream",
     "text": [
      "enter number 10\n"
     ]
    }
   ],
   "source": [
    "num=int(input(\"enter number\"))"
   ]
  },
  {
   "cell_type": "code",
   "execution_count": 231,
   "id": "5d72110b-004b-486b-9c8e-05cf662bae58",
   "metadata": {},
   "outputs": [
    {
     "name": "stdout",
     "output_type": "stream",
     "text": [
      "its even number\n"
     ]
    }
   ],
   "source": [
    "if((num)%2==0):\n",
    "    print(\"its even number\")\n",
    "else:\n",
    "    print(\"its odd number\")"
   ]
  },
  {
   "cell_type": "code",
   "execution_count": 243,
   "id": "7374e03f-f4de-4559-8995-198798095f46",
   "metadata": {},
   "outputs": [
    {
     "name": "stdout",
     "output_type": "stream",
     "text": [
      "0\n",
      "3\n",
      "6\n",
      "9\n"
     ]
    }
   ],
   "source": [
    "for num in range(0,10,3):\n",
    "    print(num)"
   ]
  },
  {
   "cell_type": "code",
   "execution_count": null,
   "id": "4ae74743-a67e-46ec-9881-285dde3441bb",
   "metadata": {},
   "outputs": [],
   "source": []
  }
 ],
 "metadata": {
  "kernelspec": {
   "display_name": "Python 3 (ipykernel)",
   "language": "python",
   "name": "python3"
  },
  "language_info": {
   "codemirror_mode": {
    "name": "ipython",
    "version": 3
   },
   "file_extension": ".py",
   "mimetype": "text/x-python",
   "name": "python",
   "nbconvert_exporter": "python",
   "pygments_lexer": "ipython3",
   "version": "3.12.4"
  }
 },
 "nbformat": 4,
 "nbformat_minor": 5
}
