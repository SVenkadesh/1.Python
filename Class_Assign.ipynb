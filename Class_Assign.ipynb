{
 "cells": [
  {
   "cell_type": "code",
   "execution_count": 70,
   "id": "b4157237-724a-48e4-8a37-161d311ca99a",
   "metadata": {},
   "outputs": [],
   "source": [
    "from ClassAssign import Assignment"
   ]
  },
  {
   "cell_type": "code",
   "execution_count": 74,
   "id": "bba8dca6-7d32-441f-adc8-2cd5654f6835",
   "metadata": {},
   "outputs": [
    {
     "ename": "NameError",
     "evalue": "name 'Gender' is not defined",
     "output_type": "error",
     "traceback": [
      "\u001b[1;31m---------------------------------------------------------------------------\u001b[0m",
      "\u001b[1;31mNameError\u001b[0m                                 Traceback (most recent call last)",
      "Cell \u001b[1;32mIn[74], line 1\u001b[0m\n\u001b[1;32m----> 1\u001b[0m Assignment\u001b[38;5;241m.\u001b[39mElegible()\n",
      "File \u001b[1;32m~\\AI\\Python\\ClassAssign.py:14\u001b[0m, in \u001b[0;36mElegible\u001b[1;34m()\u001b[0m\n\u001b[0;32m     12\u001b[0m     else:\n\u001b[0;32m     13\u001b[0m         print(num,\"is Odd number\")\n\u001b[1;32m---> 14\u001b[0m  \n\u001b[0;32m     15\u001b[0m def Elegible():\n\u001b[0;32m     16\u001b[0m     if (Gender==\"Male\") and (Age >=21):\n",
      "\u001b[1;31mNameError\u001b[0m: name 'Gender' is not defined"
     ]
    }
   ],
   "source": [
    "Assignment.Elegible()"
   ]
  },
  {
   "cell_type": "code",
   "execution_count": null,
   "id": "4ce54cab-4a3d-47cd-998e-69fc3846fd39",
   "metadata": {},
   "outputs": [],
   "source": []
  },
  {
   "cell_type": "code",
   "execution_count": null,
   "id": "d8e91dd5-8565-4831-b971-407218a1e91d",
   "metadata": {},
   "outputs": [],
   "source": []
  }
 ],
 "metadata": {
  "kernelspec": {
   "display_name": "Python 3 (ipykernel)",
   "language": "python",
   "name": "python3"
  },
  "language_info": {
   "codemirror_mode": {
    "name": "ipython",
    "version": 3
   },
   "file_extension": ".py",
   "mimetype": "text/x-python",
   "name": "python",
   "nbconvert_exporter": "python",
   "pygments_lexer": "ipython3",
   "version": "3.12.4"
  }
 },
 "nbformat": 4,
 "nbformat_minor": 5
}
