{
 "cells": [
  {
   "cell_type": "code",
   "execution_count": 93,
   "id": "933fcb94-e7bd-4afb-b481-cfa9dbbb4c1c",
   "metadata": {},
   "outputs": [],
   "source": [
    " # Create a class and function, and list out the items in the list\n",
    "\n",
    "list=[\"Sub-fields in AI are: \",\"Machine Learning\", \"Neural Networks\", \"Vision\", \"Robotics\", \"Speech Processing\", \"Natural Language Processing\"]\n",
    "class SubfieldsInAI():\n",
    "    def Subfields():\n",
    "        for SubfieldsInAI in list:\n",
    "            print(SubfieldsInAI)\n",
    "    "
   ]
  },
  {
   "cell_type": "code",
   "execution_count": 95,
   "id": "48d187de-80d5-4c86-a6f1-7242049a13f1",
   "metadata": {},
   "outputs": [
    {
     "name": "stdout",
     "output_type": "stream",
     "text": [
      "Sub-fields in AI are: \n",
      "Machine Learning\n",
      "Neural Networks\n",
      "Vision\n",
      "Robotics\n",
      "Speech Processing\n",
      "Natural Language Processing\n"
     ]
    }
   ],
   "source": [
    "SubfieldsInAI.Subfields()"
   ]
  },
  {
   "cell_type": "code",
   "execution_count": 99,
   "id": "179c2e7c-015a-418d-b13f-b15fe1b2af04",
   "metadata": {},
   "outputs": [],
   "source": [
    "# Create a function that checks whether the given number is Odd or Even \n",
    "\n",
    "class OddEven():\n",
    "    def Even():\n",
    "        if((num)%2)==0:\n",
    "            print(num,\"is Even number\")\n",
    "        else:\n",
    "            print(num,\"is Odd number\")"
   ]
  },
  {
   "cell_type": "code",
   "execution_count": 103,
   "id": "96aeade6-b479-4a30-ae5c-1215459a0eb0",
   "metadata": {},
   "outputs": [
    {
     "name": "stdin",
     "output_type": "stream",
     "text": [
      "Enter number: 11\n"
     ]
    },
    {
     "name": "stdout",
     "output_type": "stream",
     "text": [
      "11 is Odd number\n"
     ]
    }
   ],
   "source": [
    "num=int(input(\"Enter number:\"))\n",
    "OddEven.Even()"
   ]
  },
  {
   "cell_type": "code",
   "execution_count": 105,
   "id": "eaf97c98-c438-4994-9599-2c7646c94016",
   "metadata": {},
   "outputs": [],
   "source": [
    "# Create a function that tells elegibility of marriage for male and female according to their age limit like 21 for male and 18 for female \n",
    "\n",
    "class ElegiblityForMarriage():\n",
    "    def Elegible():\n",
    "        if (Gender==\"Male\") and (Age >=21):\n",
    "            print(\"ELIGIBLE\")\n",
    "        elif (Gender==\"Female\") and (Age >=18):\n",
    "            print(\"ELIGIBLE\")\n",
    "        else:\n",
    "            print(\"NOT ELIGIBLE\")"
   ]
  },
  {
   "cell_type": "code",
   "execution_count": 113,
   "id": "1508447e-1c27-46d6-ad29-5fd266c0ba37",
   "metadata": {},
   "outputs": [
    {
     "name": "stdin",
     "output_type": "stream",
     "text": [
      "Enter Your Gender: Male\n",
      "Enter Your Age: 12\n"
     ]
    },
    {
     "name": "stdout",
     "output_type": "stream",
     "text": [
      "NOT ELIGIBLE\n"
     ]
    }
   ],
   "source": [
    "Gender=input(\"Enter Your Gender:\")\n",
    "Age=int(input(\"Enter Your Age:\"))\n",
    "ElegiblityForMarriage.Elegible()"
   ]
  },
  {
   "cell_type": "code",
   "execution_count": 121,
   "id": "98cbf653-7764-43e8-9ab2-46ac846f8587",
   "metadata": {},
   "outputs": [],
   "source": [
    "# calculate the percentage of your 10th mark\n",
    "\n",
    "class FindPercent():\n",
    "    def percentage():\n",
    "        Total=(Subject1+Subject2+Subject3+Subject4+Subject5)\n",
    "        Percentage=(Total/5)\n",
    "        print(\"Total:\",Total)\n",
    "        print(\"Percentage:\",Percentage)"
   ]
  },
  {
   "cell_type": "code",
   "execution_count": 123,
   "id": "87ea0f2f-78d4-4eec-bc1b-11d2482fd601",
   "metadata": {},
   "outputs": [
    {
     "name": "stdin",
     "output_type": "stream",
     "text": [
      "Subject1: 90\n",
      "Subject2: 87\n",
      "Subject3: 78\n",
      "Subject4: 76\n",
      "Subject5: 78\n"
     ]
    },
    {
     "name": "stdout",
     "output_type": "stream",
     "text": [
      "Total: 409\n",
      "Percentage: 81.8\n"
     ]
    }
   ],
   "source": [
    "Subject1=int(input(\"Subject1:\"))\n",
    "Subject2=int(input(\"Subject2:\"))\n",
    "Subject3=int(input(\"Subject3:\"))\n",
    "Subject4=int(input(\"Subject4:\"))\n",
    "Subject5=int(input(\"Subject5:\"))\n",
    "\n",
    "FindPercent.percentage()"
   ]
  },
  {
   "cell_type": "code",
   "execution_count": 129,
   "id": "74916acd-117e-4374-bb61-7d6239597e56",
   "metadata": {},
   "outputs": [],
   "source": [
    "#print area and perimeter of triangle using class and functions \n",
    "\n",
    "class triangle():\n",
    "    def triangle(): \n",
    "        Height=int(input(\"Height:\"))\n",
    "        Breadth=int(input(\"Breadth:\"))\n",
    "        print(\"Area formula:\",(Height*Breadth)/2)\n",
    "        Height1=int(input(\"Height1:\"))\n",
    "        Height2=int(input(\"Height2:\"))\n",
    "        Breadth1=int(input(\"Breadth:\"))\n",
    "        print(\"Perimeter of Triangle:\",Height1+Height2+Breadth1)"
   ]
  },
  {
   "cell_type": "code",
   "execution_count": 131,
   "id": "c78b676c-701c-4deb-aa2e-8bb35af7deb6",
   "metadata": {},
   "outputs": [
    {
     "name": "stdin",
     "output_type": "stream",
     "text": [
      "Height: 32\n",
      "Breadth: 34\n"
     ]
    },
    {
     "name": "stdout",
     "output_type": "stream",
     "text": [
      "Area formula: 544.0\n"
     ]
    },
    {
     "name": "stdin",
     "output_type": "stream",
     "text": [
      "Height1: 2\n",
      "Height2: 4\n",
      "Breadth: 4\n"
     ]
    },
    {
     "name": "stdout",
     "output_type": "stream",
     "text": [
      "Perimeter of Triangle: 10\n"
     ]
    }
   ],
   "source": [
    "triangle.triangle()"
   ]
  },
  {
   "cell_type": "code",
   "execution_count": null,
   "id": "23db059d-7e08-4a57-8977-7862af8879e0",
   "metadata": {},
   "outputs": [],
   "source": []
  }
 ],
 "metadata": {
  "kernelspec": {
   "display_name": "Python 3 (ipykernel)",
   "language": "python",
   "name": "python3"
  },
  "language_info": {
   "codemirror_mode": {
    "name": "ipython",
    "version": 3
   },
   "file_extension": ".py",
   "mimetype": "text/x-python",
   "name": "python",
   "nbconvert_exporter": "python",
   "pygments_lexer": "ipython3",
   "version": "3.12.4"
  }
 },
 "nbformat": 4,
 "nbformat_minor": 5
}
