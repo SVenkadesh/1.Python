{
 "cells": [
  {
   "cell_type": "code",
   "execution_count": 35,
   "id": "4086b2d1-eb4f-4839-af48-6bb5248bc5f1",
   "metadata": {},
   "outputs": [],
   "source": [
    "from ClassAssign import Assignment"
   ]
  },
  {
   "cell_type": "code",
   "execution_count": 37,
   "id": "7cfae7ca-485e-48d2-b2c5-45d6dabdeb9d",
   "metadata": {},
   "outputs": [
    {
     "name": "stdin",
     "output_type": "stream",
     "text": [
      "Enter Your Gender: Male\n",
      "Enter Your Age: 23\n"
     ]
    },
    {
     "name": "stdout",
     "output_type": "stream",
     "text": [
      "ELIGIBLE\n"
     ]
    }
   ],
   "source": [
    "Assignment.Elegible()"
   ]
  },
  {
   "cell_type": "code",
   "execution_count": 49,
   "id": "83a94790-6869-4ab7-bbe8-8a7c2e68998a",
   "metadata": {},
   "outputs": [
    {
     "name": "stdin",
     "output_type": "stream",
     "text": [
      "Height: 34\n",
      "Breadth: 43\n"
     ]
    },
    {
     "name": "stdout",
     "output_type": "stream",
     "text": [
      "Area formula: 731.0\n"
     ]
    },
    {
     "name": "stdin",
     "output_type": "stream",
     "text": [
      "Height1: 2\n",
      "Height2: 4\n",
      "Breadth: 4\n"
     ]
    },
    {
     "name": "stdout",
     "output_type": "stream",
     "text": [
      "Perimeter of Triangle: 10\n"
     ]
    }
   ],
   "source": [
    "Assignment.triangle()"
   ]
  },
  {
   "cell_type": "code",
   "execution_count": 61,
   "id": "27dcddd0-9d40-493f-80f2-bae5435c4f58",
   "metadata": {},
   "outputs": [
    {
     "name": "stdin",
     "output_type": "stream",
     "text": [
      "Enter number: 30\n"
     ]
    },
    {
     "name": "stdout",
     "output_type": "stream",
     "text": [
      "30 is Even number\n"
     ]
    },
    {
     "ename": "NameError",
     "evalue": "name 'Even' is not defined",
     "output_type": "error",
     "traceback": [
      "\u001b[1;31m---------------------------------------------------------------------------\u001b[0m",
      "\u001b[1;31mNameError\u001b[0m                                 Traceback (most recent call last)",
      "Cell \u001b[1;32mIn[61], line 1\u001b[0m\n\u001b[1;32m----> 1\u001b[0m Assignment\u001b[38;5;241m.\u001b[39mEven()\n",
      "File \u001b[1;32m~\\AI\\Python\\ClassAssign.py:8\u001b[0m, in \u001b[0;36mAssignment.Even\u001b[1;34m()\u001b[0m\n\u001b[0;32m      6\u001b[0m \u001b[38;5;28;01melse\u001b[39;00m:\n\u001b[0;32m      7\u001b[0m     \u001b[38;5;28mprint\u001b[39m(num,\u001b[38;5;124m\"\u001b[39m\u001b[38;5;124mis Odd number\u001b[39m\u001b[38;5;124m\"\u001b[39m)\n\u001b[1;32m----> 8\u001b[0m \u001b[38;5;28;01mreturn\u001b[39;00m Even\n",
      "\u001b[1;31mNameError\u001b[0m: name 'Even' is not defined"
     ]
    }
   ],
   "source": [
    "Assignment.Even()"
   ]
  },
  {
   "cell_type": "code",
   "execution_count": null,
   "id": "ffec3a78-ea19-4857-855d-ab0c6e8212bd",
   "metadata": {},
   "outputs": [],
   "source": []
  }
 ],
 "metadata": {
  "kernelspec": {
   "display_name": "Python 3 (ipykernel)",
   "language": "python",
   "name": "python3"
  },
  "language_info": {
   "codemirror_mode": {
    "name": "ipython",
    "version": 3
   },
   "file_extension": ".py",
   "mimetype": "text/x-python",
   "name": "python",
   "nbconvert_exporter": "python",
   "pygments_lexer": "ipython3",
   "version": "3.12.4"
  }
 },
 "nbformat": 4,
 "nbformat_minor": 5
}
