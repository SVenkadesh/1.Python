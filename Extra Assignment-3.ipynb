{
 "cells": [
  {
   "cell_type": "code",
   "execution_count": 15,
   "id": "8783e89b-943e-47bd-914d-cc5b3ca24f6c",
   "metadata": {},
   "outputs": [
    {
     "name": "stdin",
     "output_type": "stream",
     "text": [
      "Enter no 10\n"
     ]
    },
    {
     "name": "stdout",
     "output_type": "stream",
     "text": [
      "Value 10\n",
      "Correct\n"
     ]
    }
   ],
   "source": [
    " # print 'CORRECT' if i == 10\n",
    "num=int(input(\"Enter no\"))\n",
    "if num==10:\n",
    "    print(\"Value\",num)\n",
    "    print(\"Correct\")"
   ]
  },
  {
   "cell_type": "code",
   "execution_count": 35,
   "id": "308504a0-0a42-4190-a2af-fa87d0885b58",
   "metadata": {},
   "outputs": [
    {
     "name": "stdin",
     "output_type": "stream",
     "text": [
      "Enter your password: HOPE@123\n"
     ]
    },
    {
     "name": "stdout",
     "output_type": "stream",
     "text": [
      "Your password is correct\n"
     ]
    }
   ],
   "source": [
    " # Check the password, using if and else\n",
    "password= input(\"Enter your password:\")\n",
    "if (password==\"HOPE@123\"):\n",
    "    print(\"Your password is correct\")\n",
    "else:\n",
    "    print(\"nocorrect\")"
   ]
  },
  {
   "cell_type": "code",
   "execution_count": 91,
   "id": "1c956c88-b507-4f78-919c-99ffde8c0f65",
   "metadata": {},
   "outputs": [
    {
     "name": "stdin",
     "output_type": "stream",
     "text": [
      "Enter Age: 20\n"
     ]
    },
    {
     "name": "stdout",
     "output_type": "stream",
     "text": [
      "Adault\n"
     ]
    }
   ],
   "source": [
    "# Catagory the people by their age like children, adult, citizen, senior citizen...\n",
    "Age=int(input(\"Enter Age:\"))\n",
    "if (Age<18):\n",
    "    print(\"Children\")\n",
    "elif(Age<25):\n",
    "    print(\"Adault\")\n",
    "elif(Age<50):\n",
    "    print(\"Citizen\")\n",
    "else:\n",
    "    print(\"Senior Citizen\")"
   ]
  },
  {
   "cell_type": "code",
   "execution_count": 110,
   "id": "1b9822a7-ea47-4a14-9fc9-e0b453a34a95",
   "metadata": {},
   "outputs": [
    {
     "name": "stdin",
     "output_type": "stream",
     "text": [
      "Enter any number:  1\n"
     ]
    },
    {
     "name": "stdout",
     "output_type": "stream",
     "text": [
      "No is possitive\n"
     ]
    }
   ],
   "source": [
    "# Find whether given number is positive or negative \n",
    "\n",
    "num=int(input(\"Enter any number: \"))\n",
    "if num>=0:\n",
    "    print(\"No is possitive\")\n",
    "else:\n",
    "    print(\"No is negative\")"
   ]
  },
  {
   "cell_type": "code",
   "execution_count": 118,
   "id": "581fbf29-090d-486b-bedb-e9b00c165070",
   "metadata": {},
   "outputs": [
    {
     "name": "stdin",
     "output_type": "stream",
     "text": [
      "Enter any number:  22\n"
     ]
    },
    {
     "name": "stdout",
     "output_type": "stream",
     "text": [
      "No is not divisible by 5\n"
     ]
    }
   ],
   "source": [
    " # Check whether the given number is divisible by 5 \n",
    "num=int(input(\"Enter any number: \"))\n",
    "if (num)%5==0:\n",
    "    print(\"No is divisible by 5\")\n",
    "else:\n",
    "    print(\"No is not divisible by 5\")"
   ]
  },
  {
   "cell_type": "code",
   "execution_count": null,
   "id": "2cdb46ff-5dfc-4d81-9dc7-44ed10c88ba1",
   "metadata": {},
   "outputs": [],
   "source": []
  }
 ],
 "metadata": {
  "kernelspec": {
   "display_name": "Python 3 (ipykernel)",
   "language": "python",
   "name": "python3"
  },
  "language_info": {
   "codemirror_mode": {
    "name": "ipython",
    "version": 3
   },
   "file_extension": ".py",
   "mimetype": "text/x-python",
   "name": "python",
   "nbconvert_exporter": "python",
   "pygments_lexer": "ipython3",
   "version": "3.12.4"
  }
 },
 "nbformat": 4,
 "nbformat_minor": 5
}
