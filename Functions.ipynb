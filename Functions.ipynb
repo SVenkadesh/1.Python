{
 "cells": [
  {
   "cell_type": "code",
   "execution_count": 52,
   "id": "98876598-c3ce-4643-b192-2c759bdcfdac",
   "metadata": {},
   "outputs": [],
   "source": [
    "list=[10,20,30,40,50,60,70]\n",
    "def Agecatagery ():\n",
    "    for Age in list:\n",
    "        if (Age<18):\n",
    "            print(\"Children\")\n",
    "        elif(Age<25):\n",
    "            print(\"Adault\")\n",
    "        elif(Age<50):\n",
    "            print(\"Citizen\") \n",
    "        else:\n",
    "            print(\"Senior Citizen\")"
   ]
  },
  {
   "cell_type": "code",
   "execution_count": 54,
   "id": "1e4fdc13-2820-422c-8822-c6cd1c033255",
   "metadata": {},
   "outputs": [
    {
     "name": "stdout",
     "output_type": "stream",
     "text": [
      "Children\n",
      "Adault\n",
      "Citizen\n",
      "Citizen\n",
      "Senior Citizen\n",
      "Senior Citizen\n",
      "Senior Citizen\n"
     ]
    }
   ],
   "source": [
    "Agecatagery ()"
   ]
  },
  {
   "cell_type": "code",
   "execution_count": 120,
   "id": "ab57d91c-488f-489a-8fc8-498be6f3cfad",
   "metadata": {},
   "outputs": [
    {
     "name": "stdin",
     "output_type": "stream",
     "text": [
      "Enter Age: 55\n"
     ]
    }
   ],
   "source": [
    "Age=int(input(\"Enter Age:\"))\n",
    "def Agecatagery ():\n",
    "        if (Age<18):\n",
    "            print(\"Children\")\n",
    "            Cate=\"Children\"\n",
    "        elif(Age<25):\n",
    "            print(\"Adault\")\n",
    "            Cate=\"Adault\"\n",
    "        elif(Age<50):\n",
    "            print(\"Citizen\") \n",
    "            Cate=\"Citizen\"\n",
    "        else:\n",
    "            print(\"Senior Citizen\")\n",
    "            Cate=\"Senior Citizen\"\n",
    "        return Cate"
   ]
  },
  {
   "cell_type": "code",
   "execution_count": 122,
   "id": "be3dcf17-134f-4b8a-980d-d9342d7fb9fe",
   "metadata": {},
   "outputs": [
    {
     "name": "stdout",
     "output_type": "stream",
     "text": [
      "Senior Citizen\n"
     ]
    },
    {
     "data": {
      "text/plain": [
       "'Senior Citizen'"
      ]
     },
     "execution_count": 122,
     "metadata": {},
     "output_type": "execute_result"
    }
   ],
   "source": [
    "Agecatagery ()"
   ]
  },
  {
   "cell_type": "code",
   "execution_count": 124,
   "id": "e7de30ac-325e-4f90-b863-cffb7074a6e4",
   "metadata": {},
   "outputs": [
    {
     "name": "stdout",
     "output_type": "stream",
     "text": [
      "Senior Citizen\n"
     ]
    }
   ],
   "source": [
    "AgeCate=Agecatagery ()"
   ]
  },
  {
   "cell_type": "code",
   "execution_count": 126,
   "id": "cc891edc-7599-431e-8f21-b427449f34f9",
   "metadata": {},
   "outputs": [
    {
     "name": "stdout",
     "output_type": "stream",
     "text": [
      "Senior Citizen\n"
     ]
    }
   ],
   "source": [
    "print(AgeCate)"
   ]
  },
  {
   "cell_type": "code",
   "execution_count": null,
   "id": "f4a9db6e-7b58-48b9-8324-8107dfdade02",
   "metadata": {},
   "outputs": [],
   "source": []
  }
 ],
 "metadata": {
  "kernelspec": {
   "display_name": "Python 3 (ipykernel)",
   "language": "python",
   "name": "python3"
  },
  "language_info": {
   "codemirror_mode": {
    "name": "ipython",
    "version": 3
   },
   "file_extension": ".py",
   "mimetype": "text/x-python",
   "name": "python",
   "nbconvert_exporter": "python",
   "pygments_lexer": "ipython3",
   "version": "3.12.4"
  }
 },
 "nbformat": 4,
 "nbformat_minor": 5
}
