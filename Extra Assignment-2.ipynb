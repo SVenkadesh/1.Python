{
 "cells": [
  {
   "cell_type": "code",
   "execution_count": 13,
   "id": "bee4621c-9962-4164-a9bb-8398fcb97305",
   "metadata": {},
   "outputs": [
    {
     "name": "stdout",
     "output_type": "stream",
     "text": [
      "0\n",
      "1\n",
      "2\n",
      "3\n",
      "4\n",
      "5\n",
      "6\n",
      "7\n",
      "8\n",
      "9\n",
      "10\n",
      "11\n",
      "12\n",
      "13\n",
      "14\n",
      "15\n",
      "16\n",
      "17\n",
      "18\n",
      "19\n"
     ]
    }
   ],
   "source": [
    "# print 0 to 20 by using range \n",
    "for temp in range(0,20):\n",
    "    print(temp)\n"
   ]
  },
  {
   "cell_type": "code",
   "execution_count": 300,
   "id": "9b16e334-1000-4b1d-92b5-e2d431190482",
   "metadata": {},
   "outputs": [
    {
     "name": "stdout",
     "output_type": "stream",
     "text": [
      "10 11 12 13 14 15 16 17 18 19 "
     ]
    }
   ],
   "source": [
    "# print range 10 to 20 \n",
    "for temp in range(10,20):\n",
    "    print(temp,end=\" \")"
   ]
  },
  {
   "cell_type": "code",
   "execution_count": 304,
   "id": "452b80a9-ca04-462d-bb8f-cd3143bec090",
   "metadata": {},
   "outputs": [
    {
     "name": "stdout",
     "output_type": "stream",
     "text": [
      "Number of item in the List2: \n",
      "7\n"
     ]
    }
   ],
   "source": [
    "# Print number of items in the list by using 'len'\n",
    "\n",
    "List2=[10, 20, 14, 55, 43, 87, 76] \n",
    "print(\"Number of item in the List2: \")\n",
    "print(len(List2))\n"
   ]
  },
  {
   "cell_type": "code",
   "execution_count": 235,
   "id": "3a4e2ac6-ec75-42ff-a1df-7650b2460849",
   "metadata": {},
   "outputs": [
    {
     "name": "stdout",
     "output_type": "stream",
     "text": [
      "Artificial Intelligence\n",
      "A\n",
      "r\n",
      "t\n",
      "i\n",
      "f\n",
      "i\n",
      "c\n",
      "i\n",
      "a\n",
      "l\n",
      " \n",
      "I\n",
      "n\n",
      "t\n",
      "e\n",
      "l\n",
      "l\n",
      "i\n",
      "g\n",
      "e\n",
      "n\n",
      "c\n",
      "e\n"
     ]
    }
   ],
   "source": [
    "print(\"Artificial Intelligence\")     \n",
    "s = \"Artificial Intelligence\" \n",
    "for i in s : \n",
    "   print(i) "
   ]
  },
  {
   "cell_type": "code",
   "execution_count": 292,
   "id": "cad17e86-d2d4-4063-8a64-32bc79784364",
   "metadata": {},
   "outputs": [
    {
     "name": "stdout",
     "output_type": "stream",
     "text": [
      "-Your Name-\n",
      "-Your Age-\n",
      "-Your Profession-\n"
     ]
    }
   ],
   "source": [
    "list = ['-Your Name-', '-Your Age-', '-Your Profession-']\n",
    "for i in list:\n",
    "    print(i)"
   ]
  },
  {
   "cell_type": "code",
   "execution_count": 250,
   "id": "6ef4bc26-dd8a-4855-af9b-1f8a2bd808bf",
   "metadata": {},
   "outputs": [
    {
     "name": "stdout",
     "output_type": "stream",
     "text": [
      "(1, 'Welcome', 2, 'Hope')\n"
     ]
    }
   ],
   "source": [
    "# Print yhis mixered datatype using Tuples\n",
    "text=(1,'Welcome',2,'Hope')\n",
    "print(text)"
   ]
  },
  {
   "cell_type": "code",
   "execution_count": 256,
   "id": "0f78d284-1dfe-4461-a15a-bd897fa28e27",
   "metadata": {},
   "outputs": [
    {
     "name": "stdout",
     "output_type": "stream",
     "text": [
      "((0, 1, 2, 3), ('python', 'HOPE'))\n"
     ]
    }
   ],
   "source": [
    " #Print yhis mixered datatype using Tuples\n",
    "Tuple1 = (0, 1, 2, 3)\n",
    "Tuple2=('python', 'HOPE')\n",
    "Tuple=(Tuple1,Tuple2)\n",
    "print(Tuple)"
   ]
  },
  {
   "cell_type": "code",
   "execution_count": 278,
   "id": "08b938d3-f267-4fda-8af0-f1d8446bb83a",
   "metadata": {},
   "outputs": [
    {
     "name": "stdout",
     "output_type": "stream",
     "text": [
      "19 is odd number\n",
      "25 is odd number\n",
      "1 is odd number\n"
     ]
    }
   ],
   "source": [
    "# print Odd Numbers in the list\n",
    "num=[20,10,16,19,25,1,276,188]\n",
    "for i in num:\n",
    "  if  i % 2==1:\n",
    "    print(i,\"is odd number\")"
   ]
  },
  {
   "cell_type": "code",
   "execution_count": 298,
   "id": "c086b59d-833a-4834-8a55-8c4de261f71d",
   "metadata": {},
   "outputs": [
    {
     "name": "stdout",
     "output_type": "stream",
     "text": [
      "20 is even number\n",
      "10 is even number\n",
      "16 is even number\n",
      "276 is even number\n",
      "188 is even number\n"
     ]
    }
   ],
   "source": [
    "# print Even numbers in the list\n",
    "Evenum=(20,10,16,19,25,1,276,188)\n",
    "for i in Evenum:\n",
    "  if  i % 2==0:\n",
    "    print(i,\"is even number\")"
   ]
  },
  {
   "cell_type": "code",
   "execution_count": null,
   "id": "cb289138-d67e-444c-a67f-6eca09ba5793",
   "metadata": {},
   "outputs": [],
   "source": []
  }
 ],
 "metadata": {
  "kernelspec": {
   "display_name": "Python 3 (ipykernel)",
   "language": "python",
   "name": "python3"
  },
  "language_info": {
   "codemirror_mode": {
    "name": "ipython",
    "version": 3
   },
   "file_extension": ".py",
   "mimetype": "text/x-python",
   "name": "python",
   "nbconvert_exporter": "python",
   "pygments_lexer": "ipython3",
   "version": "3.12.4"
  }
 },
 "nbformat": 4,
 "nbformat_minor": 5
}
