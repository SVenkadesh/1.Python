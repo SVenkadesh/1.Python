{
 "cells": [
  {
   "cell_type": "code",
   "execution_count": 23,
   "id": "772df3bc-c0c7-4880-bc2e-b0c8922985f1",
   "metadata": {},
   "outputs": [],
   "source": [
    "from Firstnotefile import Test"
   ]
  },
  {
   "cell_type": "code",
   "execution_count": 27,
   "id": "95772541-4253-49ee-8b11-6552a027dfe1",
   "metadata": {},
   "outputs": [
    {
     "name": "stdin",
     "output_type": "stream",
     "text": [
      "Enter Your Gender: Male\n",
      "Enter Your Age: 23\n"
     ]
    },
    {
     "name": "stdout",
     "output_type": "stream",
     "text": [
      "ELIGIBLE\n"
     ]
    }
   ],
   "source": [
    "Test.Elegible()"
   ]
  },
  {
   "cell_type": "code",
   "execution_count": 29,
   "id": "cf8a786f-166b-4e20-8abb-1daacccf4557",
   "metadata": {},
   "outputs": [
    {
     "name": "stdin",
     "output_type": "stream",
     "text": [
      "Enter number: 5350\n"
     ]
    },
    {
     "name": "stdout",
     "output_type": "stream",
     "text": [
      "5350 is Even number\n"
     ]
    }
   ],
   "source": [
    "Test.OddorEven()"
   ]
  },
  {
   "cell_type": "code",
   "execution_count": null,
   "id": "cc432041-bea9-4767-9da2-456d28a95788",
   "metadata": {},
   "outputs": [],
   "source": []
  }
 ],
 "metadata": {
  "kernelspec": {
   "display_name": "Python 3 (ipykernel)",
   "language": "python",
   "name": "python3"
  },
  "language_info": {
   "codemirror_mode": {
    "name": "ipython",
    "version": 3
   },
   "file_extension": ".py",
   "mimetype": "text/x-python",
   "name": "python",
   "nbconvert_exporter": "python",
   "pygments_lexer": "ipython3",
   "version": "3.12.4"
  }
 },
 "nbformat": 4,
 "nbformat_minor": 5
}
